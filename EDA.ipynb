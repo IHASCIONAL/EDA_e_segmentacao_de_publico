{
 "cells": [
  {
   "cell_type": "markdown",
   "metadata": {},
   "source": [
    "### 0.2 - PACOTES"
   ]
  },
  {
   "cell_type": "code",
   "execution_count": 1,
   "metadata": {},
   "outputs": [],
   "source": [
    "import pandas as pd\n",
    "import numpy as np\n",
    "import matplotlib.pyplot as plt\n",
    "import seaborn as sns"
   ]
  },
  {
   "cell_type": "markdown",
   "metadata": {},
   "source": [
    "### 0.3 - CONFIGURAÇÕES "
   ]
  },
  {
   "cell_type": "code",
   "execution_count": 2,
   "metadata": {},
   "outputs": [],
   "source": [
    "# Configurar opções de exibição\n",
    "pd.set_option(\"display.max_rows\", None)\n",
    "pd.set_option(\"display.max_columns\", None)"
   ]
  },
  {
   "cell_type": "markdown",
   "metadata": {},
   "source": [
    "### 0.4 - FUNÇÕES"
   ]
  },
  {
   "cell_type": "code",
   "execution_count": 3,
   "metadata": {},
   "outputs": [],
   "source": [
    "def analise_descritiva(numerical_df):\n",
    "    \"\"\"\n",
    "    Realiza uma análise descritiva básica em um DataFrame contendo dados numéricos.\n",
    "\n",
    "    Parâmetros:\n",
    "        numerical_df (pandas.DataFrame): DataFrame contendo apenas dados numéricos.\n",
    "        \n",
    "    Retorna:\n",
    "        pandas.DataFrame: Um DataFrame com as seguintes estatísticas descritivas para cada coluna:\n",
    "            - Atributos: Nomes das colunas do DataFrame de entrada.\n",
    "            - Media: Média dos valores em cada coluna.\n",
    "            - Mediana: Mediana dos valores em cada coluna.\n",
    "            - DesvioPadrao: Desvio padrão dos valores em cada coluna.\n",
    "            - Min: Valor mínimo em cada coluna.\n",
    "            - Q1: Primeiro quartil em cada coluna.\n",
    "            - P10: Décimo percentil em cada coluna.\n",
    "            - P90: Nonagésimo percentil em cada coluna.\n",
    "            - Q3: Terceiro quartil em cada coluna.\n",
    "            - Max: Valor máximo em cada coluna.\n",
    "            - Range: Amplitude dos valores em cada coluna (diferença entre máximo e mínimo).\n",
    "            - Assimetria: Medida de assimetria dos valores em cada coluna.\n",
    "            - Curtose: Medida de curtose dos valores em cada coluna.\n",
    "    \"\"\"\n",
    "    \n",
    "    ct1 = pd.DataFrame(numerical_df.apply(np.mean)).T\n",
    "    ct2 = pd.DataFrame(numerical_df.apply(np.median)).T\n",
    "    ct3 = pd.DataFrame(numerical_df.apply(lambda x: x.quantile(0.25))).T  # Q1\n",
    "    ct4 = pd.DataFrame(numerical_df.apply(lambda x: x.quantile(0.75))).T  # Q3\n",
    "    ct5 = pd.DataFrame(numerical_df.apply(lambda x: x.quantile(0.10))).T  # P10\n",
    "    ct6 = pd.DataFrame(numerical_df.apply(lambda x: x.quantile(0.90))).T  # P90\n",
    "\n",
    "    d1 = pd.DataFrame(numerical_df.apply(np.std)).T\n",
    "    d2 = pd.DataFrame(numerical_df.apply(min)).T\n",
    "    d3 = pd.DataFrame(numerical_df.apply(max)).T\n",
    "    d4 = pd.DataFrame(numerical_df.apply(lambda x: x.max() - x.min())).T\n",
    "    d5 = pd.DataFrame(numerical_df.apply(lambda x: x.skew())).T\n",
    "    d6 = pd.DataFrame(numerical_df.apply(lambda x: x.kurtosis())).T\n",
    "\n",
    "    m = pd.concat([ct1, ct2, ct3, ct4, ct5, ct6, d1, d2, d3, d4, d5, d6]).T.reset_index()\n",
    "    m.columns = [\"Atributos\", \"Media\", \"Mediana\", \"Q1\", \"Q3\", \"P10\", \"P90\", \"DesvioPadrao\", \"Min\", \"Max\", \"Range\", \"Assimetria\", \"Curtose\"]\n",
    "\n",
    "    return m"
   ]
  },
  {
   "cell_type": "markdown",
   "metadata": {},
   "source": [
    "### 0.5 - LEITURA E BREVE COMPREENSÃO DO DATASET"
   ]
  },
  {
   "cell_type": "code",
   "execution_count": 4,
   "metadata": {},
   "outputs": [
    {
     "data": {
      "text/html": [
       "<div>\n",
       "<style scoped>\n",
       "    .dataframe tbody tr th:only-of-type {\n",
       "        vertical-align: middle;\n",
       "    }\n",
       "\n",
       "    .dataframe tbody tr th {\n",
       "        vertical-align: top;\n",
       "    }\n",
       "\n",
       "    .dataframe thead th {\n",
       "        text-align: right;\n",
       "    }\n",
       "</style>\n",
       "<table border=\"1\" class=\"dataframe\">\n",
       "  <thead>\n",
       "    <tr style=\"text-align: right;\">\n",
       "      <th></th>\n",
       "      <th>CustomerID</th>\n",
       "      <th>Gender</th>\n",
       "      <th>Age</th>\n",
       "      <th>Annual Income ($)</th>\n",
       "      <th>Spending Score (1-100)</th>\n",
       "      <th>Profession</th>\n",
       "      <th>Work Experience</th>\n",
       "      <th>Family Size</th>\n",
       "    </tr>\n",
       "  </thead>\n",
       "  <tbody>\n",
       "    <tr>\n",
       "      <th>0</th>\n",
       "      <td>1</td>\n",
       "      <td>Male</td>\n",
       "      <td>19</td>\n",
       "      <td>15000</td>\n",
       "      <td>39</td>\n",
       "      <td>Healthcare</td>\n",
       "      <td>1</td>\n",
       "      <td>4</td>\n",
       "    </tr>\n",
       "    <tr>\n",
       "      <th>1</th>\n",
       "      <td>2</td>\n",
       "      <td>Male</td>\n",
       "      <td>21</td>\n",
       "      <td>35000</td>\n",
       "      <td>81</td>\n",
       "      <td>Engineer</td>\n",
       "      <td>3</td>\n",
       "      <td>3</td>\n",
       "    </tr>\n",
       "    <tr>\n",
       "      <th>2</th>\n",
       "      <td>3</td>\n",
       "      <td>Female</td>\n",
       "      <td>20</td>\n",
       "      <td>86000</td>\n",
       "      <td>6</td>\n",
       "      <td>Engineer</td>\n",
       "      <td>1</td>\n",
       "      <td>1</td>\n",
       "    </tr>\n",
       "    <tr>\n",
       "      <th>3</th>\n",
       "      <td>4</td>\n",
       "      <td>Female</td>\n",
       "      <td>23</td>\n",
       "      <td>59000</td>\n",
       "      <td>77</td>\n",
       "      <td>Lawyer</td>\n",
       "      <td>0</td>\n",
       "      <td>2</td>\n",
       "    </tr>\n",
       "    <tr>\n",
       "      <th>4</th>\n",
       "      <td>5</td>\n",
       "      <td>Female</td>\n",
       "      <td>31</td>\n",
       "      <td>38000</td>\n",
       "      <td>40</td>\n",
       "      <td>Entertainment</td>\n",
       "      <td>2</td>\n",
       "      <td>6</td>\n",
       "    </tr>\n",
       "  </tbody>\n",
       "</table>\n",
       "</div>"
      ],
      "text/plain": [
       "  CustomerID  Gender  Age  Annual Income ($)  Spending Score (1-100)  \\\n",
       "0          1    Male   19              15000                      39   \n",
       "1          2    Male   21              35000                      81   \n",
       "2          3  Female   20              86000                       6   \n",
       "3          4  Female   23              59000                      77   \n",
       "4          5  Female   31              38000                      40   \n",
       "\n",
       "      Profession  Work Experience  Family Size  \n",
       "0     Healthcare                1            4  \n",
       "1       Engineer                3            3  \n",
       "2       Engineer                1            1  \n",
       "3         Lawyer                0            2  \n",
       "4  Entertainment                2            6  "
      ]
     },
     "execution_count": 4,
     "metadata": {},
     "output_type": "execute_result"
    }
   ],
   "source": [
    "# Definindo tipos na mão, para consumir menos memória\n",
    "df = pd.read_csv('Customers.csv', dtype={\n",
    "    'CustomerID':'category',\n",
    "    'Gender':'category',\n",
    "    'Age':np.dtype('int32'),\n",
    "    'Profession':'category',\n",
    "    'Work Experience': np.dtype('int32'),\n",
    "    'Family Size': np.dtype('int32')\n",
    "})\n",
    "\n",
    "df.head()"
   ]
  },
  {
   "cell_type": "code",
   "execution_count": 5,
   "metadata": {},
   "outputs": [
    {
     "name": "stdout",
     "output_type": "stream",
     "text": [
      "<class 'pandas.core.frame.DataFrame'>\n",
      "RangeIndex: 2000 entries, 0 to 1999\n",
      "Data columns (total 8 columns):\n",
      " #   Column                  Non-Null Count  Dtype   \n",
      "---  ------                  --------------  -----   \n",
      " 0   CustomerID              2000 non-null   category\n",
      " 1   Gender                  2000 non-null   category\n",
      " 2   Age                     2000 non-null   int32   \n",
      " 3   Annual Income ($)       2000 non-null   int64   \n",
      " 4   Spending Score (1-100)  2000 non-null   int64   \n",
      " 5   Profession              1965 non-null   category\n",
      " 6   Work Experience         2000 non-null   int32   \n",
      " 7   Family Size             2000 non-null   int32   \n",
      "dtypes: category(3), int32(3), int64(2)\n",
      "memory usage: 143.3 KB\n"
     ]
    }
   ],
   "source": [
    "df.info()"
   ]
  },
  {
   "cell_type": "code",
   "execution_count": 6,
   "metadata": {},
   "outputs": [
    {
     "data": {
      "text/plain": [
       "(2000, 8)"
      ]
     },
     "execution_count": 6,
     "metadata": {},
     "output_type": "execute_result"
    }
   ],
   "source": [
    "df.shape"
   ]
  },
  {
   "cell_type": "code",
   "execution_count": 7,
   "metadata": {},
   "outputs": [
    {
     "data": {
      "text/plain": [
       "CustomerID                category\n",
       "Gender                    category\n",
       "Age                          int32\n",
       "Annual Income ($)            int64\n",
       "Spending Score (1-100)       int64\n",
       "Profession                category\n",
       "Work Experience              int32\n",
       "Family Size                  int32\n",
       "dtype: object"
      ]
     },
     "execution_count": 7,
     "metadata": {},
     "output_type": "execute_result"
    }
   ],
   "source": [
    "df.dtypes"
   ]
  },
  {
   "cell_type": "code",
   "execution_count": 8,
   "metadata": {},
   "outputs": [],
   "source": [
    "# Deixando o nome das colunas em lowercase\n",
    "df.columns = [col.lower() for col in df.columns]"
   ]
  },
  {
   "cell_type": "code",
   "execution_count": 9,
   "metadata": {},
   "outputs": [],
   "source": [
    "df.columns = ['customerid', 'gender', 'age', 'annual_income',\n",
    "       'spending_score', 'profession', 'work_experience',\n",
    "       'family_size']"
   ]
  },
  {
   "cell_type": "code",
   "execution_count": 10,
   "metadata": {},
   "outputs": [
    {
     "data": {
      "text/plain": [
       "customerid         0.00\n",
       "gender             0.00\n",
       "age                0.00\n",
       "annual_income      0.00\n",
       "spending_score     0.00\n",
       "profession         1.75\n",
       "work_experience    0.00\n",
       "family_size        0.00\n",
       "dtype: float64"
      ]
     },
     "execution_count": 10,
     "metadata": {},
     "output_type": "execute_result"
    }
   ],
   "source": [
    "# Verificando percentual de valores nulos por coluna\n",
    "df.isna().sum() / len(df) * 100"
   ]
  },
  {
   "cell_type": "markdown",
   "metadata": {},
   "source": [
    "### 1.0 - ANÁLISE"
   ]
  },
  {
   "cell_type": "code",
   "execution_count": 11,
   "metadata": {},
   "outputs": [
    {
     "data": {
      "text/plain": [
       "2000"
      ]
     },
     "execution_count": 11,
     "metadata": {},
     "output_type": "execute_result"
    }
   ],
   "source": [
    "df['customerid'].nunique()"
   ]
  },
  {
   "cell_type": "markdown",
   "metadata": {},
   "source": [
    "#### 1.1 - GÊNERO"
   ]
  },
  {
   "cell_type": "code",
   "execution_count": 12,
   "metadata": {},
   "outputs": [
    {
     "data": {
      "image/png": "[encoded data removed]",
      "text/plain": [
       "<Figure size 640x480 with 1 Axes>"
      ]
     },
     "metadata": {},
     "output_type": "display_data"
    }
   ],
   "source": [
    "gender_series = df.groupby('gender', observed=False)['customerid'].nunique()\n",
    "\n",
    "colors = ['pink', 'blue']\n",
    "ax = gender_series.plot(kind=\"pie\", colors=colors, autopct='%1.1f%%')\n",
    "plt.title('Proporção de clientes por gênero')\n",
    "plt.show()\n",
    "\n"
   ]
  },
  {
   "cell_type": "markdown",
   "metadata": {},
   "source": [
    "#### 1.2 - IDADE"
   ]
  },
  {
   "cell_type": "code",
   "execution_count": 13,
   "metadata": {},
   "outputs": [
    {
     "data": {
      "image/png": "[encoded data removed]",
      "text/plain": [
       "<Figure size 2000x600 with 1 Axes>"
      ]
     },
     "metadata": {},
     "output_type": "display_data"
    }
   ],
   "source": [
    "age_series = df.groupby('age', observed=False)['customerid'].nunique()\n",
    "\n",
    "plt.figure(figsize=(20, 6))\n",
    "\n",
    "age_series.plot(kind=\"bar\")\n",
    "plt.xlabel('Idade')\n",
    "plt.ylabel('Número de Clientes')\n",
    "plt.title('Número de Clientes por Idade')\n",
    "\n",
    "plt.show()"
   ]
  },
  {
   "cell_type": "code",
   "execution_count": 35,
   "metadata": {},
   "outputs": [
    {
     "data": {
      "text/plain": [
       "age\n",
       "31    1.55\n",
       "32    1.50\n",
       "52    1.50\n",
       "91    1.45\n",
       "63    1.40\n",
       "54    1.40\n",
       "20    1.35\n",
       "34    1.35\n",
       "30    1.35\n",
       "1     1.30\n",
       "84    1.30\n",
       "25    1.25\n",
       "13    1.25\n",
       "19    1.25\n",
       "38    1.20\n",
       "23    1.20\n",
       "0     1.20\n",
       "83    1.20\n",
       "59    1.20\n",
       "78    1.20\n",
       "64    1.20\n",
       "41    1.20\n",
       "58    1.20\n",
       "21    1.15\n",
       "18    1.15\n",
       "89    1.15\n",
       "43    1.15\n",
       "67    1.15\n",
       "68    1.15\n",
       "40    1.15\n",
       "62    1.15\n",
       "47    1.15\n",
       "60    1.10\n",
       "96    1.10\n",
       "8     1.10\n",
       "37    1.10\n",
       "97    1.10\n",
       "85    1.05\n",
       "65    1.05\n",
       "87    1.05\n",
       "36    1.05\n",
       "33    1.05\n",
       "95    1.05\n",
       "75    1.05\n",
       "16    1.05\n",
       "5     1.00\n",
       "35    1.00\n",
       "29    1.00\n",
       "28    1.00\n",
       "48    1.00\n",
       "49    1.00\n",
       "12    1.00\n",
       "15    1.00\n",
       "24    0.95\n",
       "92    0.95\n",
       "14    0.95\n",
       "80    0.95\n",
       "70    0.95\n",
       "53    0.95\n",
       "90    0.95\n",
       "27    0.95\n",
       "7     0.90\n",
       "3     0.90\n",
       "39    0.90\n",
       "72    0.90\n",
       "94    0.90\n",
       "93    0.90\n",
       "81    0.90\n",
       "56    0.90\n",
       "22    0.90\n",
       "46    0.90\n",
       "79    0.85\n",
       "82    0.85\n",
       "99    0.85\n",
       "69    0.85\n",
       "66    0.85\n",
       "17    0.85\n",
       "55    0.85\n",
       "45    0.85\n",
       "76    0.80\n",
       "26    0.80\n",
       "86    0.80\n",
       "44    0.75\n",
       "73    0.75\n",
       "2     0.75\n",
       "4     0.75\n",
       "88    0.75\n",
       "50    0.75\n",
       "57    0.70\n",
       "6     0.70\n",
       "51    0.65\n",
       "11    0.65\n",
       "9     0.65\n",
       "74    0.65\n",
       "42    0.60\n",
       "61    0.60\n",
       "10    0.60\n",
       "71    0.60\n",
       "77    0.60\n",
       "98    0.45\n",
       "Name: customerid, dtype: float64"
      ]
     },
     "execution_count": 35,
     "metadata": {},
     "output_type": "execute_result"
    }
   ],
   "source": [
    "## Participação da idade específica no dataset inteiro, em percentual.\n",
    "(age_series / len(df) * 100).sort_values(ascending=False)"
   ]
  },
  {
   "cell_type": "markdown",
   "metadata": {},
   "source": [
    "As idades estão bem divididas entre 0 e 99 anos. Nenhuma idade chega a sequer 2% do dataset"
   ]
  },
  {
   "cell_type": "markdown",
   "metadata": {},
   "source": [
    "#### 1.3 - PROFISSÕES"
   ]
  },
  {
   "cell_type": "code",
   "execution_count": 15,
   "metadata": {},
   "outputs": [
    {
     "data": {
      "image/png": "[encoded data removed]",
      "text/plain": [
       "<Figure size 1000x400 with 1 Axes>"
      ]
     },
     "metadata": {},
     "output_type": "display_data"
    }
   ],
   "source": [
    "profession_series = df.groupby('profession', observed=False)['customerid'].nunique()\n",
    "\n",
    "plt.figure(figsize=(10, 4))\n",
    "plt.title('Quantidade de clientes por profissão')\n",
    "ax = profession_series.plot(kind='bar')\n",
    "\n",
    "# Adicionar rótulos de dados no topo das barras\n",
    "for p in ax.patches:\n",
    "    ax.annotate(f'{p.get_height()}', (p.get_x() + p.get_width() / 2., p.get_height()),\n",
    "                ha='center', va='center', xytext=(0, 10), textcoords='offset points')\n",
    "    \n",
    "# Remover poluições visuais\n",
    "ax.spines['right'].set_visible(False)\n",
    "ax.spines['top'].set_visible(False)\n",
    "ax.spines['left'].set_visible(False)\n",
    "ax.spines['bottom'].set_visible(False)\n",
    "\n",
    "# Rotacionar os rótulos do eixo x\n",
    "ax.set_xticklabels(ax.get_xticklabels(), rotation=0, ha='center')\n",
    "\n",
    "ax.tick_params(axis='x', which='both', bottom=False, top=False)\n",
    "ax.tick_params(axis='y', which='both', left=False, right=False, labelleft=False);"
   ]
  },
  {
   "cell_type": "markdown",
   "metadata": {},
   "source": [
    "### 1.4 - Análise Descritiva das Variáveis Numéricas"
   ]
  },
  {
   "cell_type": "code",
   "execution_count": 16,
   "metadata": {},
   "outputs": [
    {
     "data": {
      "text/html": [
       "<div>\n",
       "<style scoped>\n",
       "    .dataframe tbody tr th:only-of-type {\n",
       "        vertical-align: middle;\n",
       "    }\n",
       "\n",
       "    .dataframe tbody tr th {\n",
       "        vertical-align: top;\n",
       "    }\n",
       "\n",
       "    .dataframe thead th {\n",
       "        text-align: right;\n",
       "    }\n",
       "</style>\n",
       "<table border=\"1\" class=\"dataframe\">\n",
       "  <thead>\n",
       "    <tr style=\"text-align: right;\">\n",
       "      <th></th>\n",
       "      <th>Atributos</th>\n",
       "      <th>Media</th>\n",
       "      <th>Mediana</th>\n",
       "      <th>Q1</th>\n",
       "      <th>Q3</th>\n",
       "      <th>P10</th>\n",
       "      <th>P90</th>\n",
       "      <th>DesvioPadrao</th>\n",
       "      <th>Min</th>\n",
       "      <th>Max</th>\n",
       "      <th>Range</th>\n",
       "      <th>Assimetria</th>\n",
       "      <th>Curtose</th>\n",
       "    </tr>\n",
       "  </thead>\n",
       "  <tbody>\n",
       "    <tr>\n",
       "      <th>0</th>\n",
       "      <td>age</td>\n",
       "      <td>48.9600</td>\n",
       "      <td>48.0</td>\n",
       "      <td>25.0</td>\n",
       "      <td>73.00</td>\n",
       "      <td>11.0</td>\n",
       "      <td>89.0</td>\n",
       "      <td>28.422639</td>\n",
       "      <td>0.0</td>\n",
       "      <td>99.0</td>\n",
       "      <td>99.0</td>\n",
       "      <td>0.049222</td>\n",
       "      <td>-1.168926</td>\n",
       "    </tr>\n",
       "    <tr>\n",
       "      <th>1</th>\n",
       "      <td>annual_income</td>\n",
       "      <td>110731.8215</td>\n",
       "      <td>110045.0</td>\n",
       "      <td>74572.0</td>\n",
       "      <td>149092.75</td>\n",
       "      <td>54251.9</td>\n",
       "      <td>173051.4</td>\n",
       "      <td>45728.100374</td>\n",
       "      <td>0.0</td>\n",
       "      <td>189974.0</td>\n",
       "      <td>189974.0</td>\n",
       "      <td>-0.116491</td>\n",
       "      <td>-0.843132</td>\n",
       "    </tr>\n",
       "    <tr>\n",
       "      <th>2</th>\n",
       "      <td>spending_score</td>\n",
       "      <td>50.9625</td>\n",
       "      <td>50.0</td>\n",
       "      <td>28.0</td>\n",
       "      <td>75.00</td>\n",
       "      <td>12.9</td>\n",
       "      <td>90.0</td>\n",
       "      <td>27.927676</td>\n",
       "      <td>0.0</td>\n",
       "      <td>100.0</td>\n",
       "      <td>100.0</td>\n",
       "      <td>0.004555</td>\n",
       "      <td>-1.100732</td>\n",
       "    </tr>\n",
       "    <tr>\n",
       "      <th>3</th>\n",
       "      <td>work_experience</td>\n",
       "      <td>4.1025</td>\n",
       "      <td>3.0</td>\n",
       "      <td>1.0</td>\n",
       "      <td>7.00</td>\n",
       "      <td>0.0</td>\n",
       "      <td>9.0</td>\n",
       "      <td>3.921224</td>\n",
       "      <td>0.0</td>\n",
       "      <td>17.0</td>\n",
       "      <td>17.0</td>\n",
       "      <td>0.683718</td>\n",
       "      <td>-0.466591</td>\n",
       "    </tr>\n",
       "    <tr>\n",
       "      <th>4</th>\n",
       "      <td>family_size</td>\n",
       "      <td>3.7685</td>\n",
       "      <td>4.0</td>\n",
       "      <td>2.0</td>\n",
       "      <td>5.00</td>\n",
       "      <td>1.0</td>\n",
       "      <td>7.0</td>\n",
       "      <td>1.970256</td>\n",
       "      <td>1.0</td>\n",
       "      <td>9.0</td>\n",
       "      <td>8.0</td>\n",
       "      <td>0.199263</td>\n",
       "      <td>-1.162611</td>\n",
       "    </tr>\n",
       "  </tbody>\n",
       "</table>\n",
       "</div>"
      ],
      "text/plain": [
       "         Atributos        Media   Mediana       Q1         Q3      P10  \\\n",
       "0              age      48.9600      48.0     25.0      73.00     11.0   \n",
       "1    annual_income  110731.8215  110045.0  74572.0  149092.75  54251.9   \n",
       "2   spending_score      50.9625      50.0     28.0      75.00     12.9   \n",
       "3  work_experience       4.1025       3.0      1.0       7.00      0.0   \n",
       "4      family_size       3.7685       4.0      2.0       5.00      1.0   \n",
       "\n",
       "        P90  DesvioPadrao  Min       Max     Range  Assimetria   Curtose  \n",
       "0      89.0     28.422639  0.0      99.0      99.0    0.049222 -1.168926  \n",
       "1  173051.4  45728.100374  0.0  189974.0  189974.0   -0.116491 -0.843132  \n",
       "2      90.0     27.927676  0.0     100.0     100.0    0.004555 -1.100732  \n",
       "3       9.0      3.921224  0.0      17.0      17.0    0.683718 -0.466591  \n",
       "4       7.0      1.970256  1.0       9.0       8.0    0.199263 -1.162611  "
      ]
     },
     "execution_count": 16,
     "metadata": {},
     "output_type": "execute_result"
    }
   ],
   "source": [
    "num_vars = df.select_dtypes(include=['int32', 'int64'])\n",
    "\n",
    "analise_descritiva(num_vars)"
   ]
  },
  {
   "cell_type": "markdown",
   "metadata": {},
   "source": [
    "O resumo estatístico mostra que há notáveis divergências de renda. Isso pode ser interessante para guiar os próximos passos da análise."
   ]
  },
  {
   "cell_type": "markdown",
   "metadata": {},
   "source": [
    "#### 1.5 - Correlação das variáveis numéricas"
   ]
  },
  {
   "cell_type": "code",
   "execution_count": 17,
   "metadata": {},
   "outputs": [
    {
     "data": {
      "image/png": "[encoded data removed]",
      "text/plain": [
       "<Figure size 640x480 with 2 Axes>"
      ]
     },
     "metadata": {},
     "output_type": "display_data"
    }
   ],
   "source": [
    "# Correlação\n",
    "sns.heatmap(num_vars.corr(), annot=True);"
   ]
  },
  {
   "cell_type": "markdown",
   "metadata": {},
   "source": [
    "#### 1.6 - Distribuição das variáveis numéricas (BoxPlot) "
   ]
  },
  {
   "cell_type": "code",
   "execution_count": 18,
   "metadata": {},
   "outputs": [
    {
     "data": {
      "image/png": "[encoded data removed]",
      "text/plain": [
       "<Figure size 1200x400 with 5 Axes>"
      ]
     },
     "metadata": {},
     "output_type": "display_data"
    }
   ],
   "source": [
    "# Define o número de linhas e colunas necessárias para o subplot\n",
    "num_cols = 5\n",
    "num_rows = 1\n",
    "\n",
    "# Cria o grid de subplots\n",
    "fig, axes = plt.subplots(nrows=num_rows, ncols=num_cols, figsize=(12, 4))\n",
    "\n",
    "# Loop para plotar os boxplots de cada variável numérica em um subplot\n",
    "for i, col in enumerate(num_vars.columns):\n",
    "    ax = axes[i]\n",
    "    ax.boxplot(num_vars[col])\n",
    "    ax.set_title(f'Boxplot de {col}', fontsize=8)\n",
    "    ax.set_ylabel(col)\n",
    "\n",
    "# Ajusta o layout para que não haja sobreposição de títulos\n",
    "plt.tight_layout()\n",
    "\n",
    "# Exibe o gráfico com todos os subplots\n",
    "plt.show()\n"
   ]
  },
  {
   "cell_type": "code",
   "execution_count": 19,
   "metadata": {},
   "outputs": [
    {
     "data": {
      "image/png": "[encoded data removed]",
      "text/plain": [
       "<Figure size 1200x400 with 5 Axes>"
      ]
     },
     "metadata": {},
     "output_type": "display_data"
    }
   ],
   "source": [
    "# Define o número de linhas e colunas necessárias para o subplot\n",
    "num_cols = 5\n",
    "num_rows = 1\n",
    "\n",
    "# Cria o grid de subplots\n",
    "fig, axes = plt.subplots(nrows=num_rows, ncols=num_cols, figsize=(12, 4))\n",
    "\n",
    "# Loop para plotar os boxplots de cada variável numérica em um subplot\n",
    "for i, col in enumerate(num_vars.columns):\n",
    "    ax = axes[i]\n",
    "    ax.hist(num_vars[col])\n",
    "    ax.set_title(f'Histograma de {col}', fontsize=8)\n",
    "    ax.set_ylabel(col)\n",
    "\n",
    "# Ajusta o layout para que não haja sobreposição de títulos\n",
    "plt.tight_layout()\n",
    "\n",
    "# Exibe o gráfico com todos os subplots\n",
    "plt.show()\n"
   ]
  },
  {
   "cell_type": "markdown",
   "metadata": {},
   "source": [
    "Embora as outras análises já tenham dado essa resposta, o histograma deixa gritante que a maioria dos clientes tem menos de 10 anos de experiência em suas profissões."
   ]
  },
  {
   "cell_type": "markdown",
   "metadata": {},
   "source": [
    "### 1.7 - Observando a média das variáveis numéricas por gênero"
   ]
  },
  {
   "cell_type": "code",
   "execution_count": 21,
   "metadata": {},
   "outputs": [
    {
     "data": {
      "text/html": [
       "<div>\n",
       "<style scoped>\n",
       "    .dataframe tbody tr th:only-of-type {\n",
       "        vertical-align: middle;\n",
       "    }\n",
       "\n",
       "    .dataframe tbody tr th {\n",
       "        vertical-align: top;\n",
       "    }\n",
       "\n",
       "    .dataframe thead th {\n",
       "        text-align: right;\n",
       "    }\n",
       "</style>\n",
       "<table border=\"1\" class=\"dataframe\">\n",
       "  <thead>\n",
       "    <tr style=\"text-align: right;\">\n",
       "      <th></th>\n",
       "      <th>qtd_cliente</th>\n",
       "      <th>age</th>\n",
       "      <th>annual_income</th>\n",
       "      <th>spending_score</th>\n",
       "      <th>work_experience</th>\n",
       "      <th>family_size</th>\n",
       "    </tr>\n",
       "    <tr>\n",
       "      <th>gender</th>\n",
       "      <th></th>\n",
       "      <th></th>\n",
       "      <th></th>\n",
       "      <th></th>\n",
       "      <th></th>\n",
       "      <th></th>\n",
       "    </tr>\n",
       "  </thead>\n",
       "  <tbody>\n",
       "    <tr>\n",
       "      <th>Female</th>\n",
       "      <td>1186</td>\n",
       "      <td>48.822934</td>\n",
       "      <td>110553.715008</td>\n",
       "      <td>50.974705</td>\n",
       "      <td>4.035413</td>\n",
       "      <td>3.768128</td>\n",
       "    </tr>\n",
       "    <tr>\n",
       "      <th>Male</th>\n",
       "      <td>814</td>\n",
       "      <td>49.159705</td>\n",
       "      <td>110991.323096</td>\n",
       "      <td>50.944717</td>\n",
       "      <td>4.200246</td>\n",
       "      <td>3.769042</td>\n",
       "    </tr>\n",
       "  </tbody>\n",
       "</table>\n",
       "</div>"
      ],
      "text/plain": [
       "        qtd_cliente        age  annual_income  spending_score  \\\n",
       "gender                                                          \n",
       "Female         1186  48.822934  110553.715008       50.974705   \n",
       "Male            814  49.159705  110991.323096       50.944717   \n",
       "\n",
       "        work_experience  family_size  \n",
       "gender                                \n",
       "Female         4.035413     3.768128  \n",
       "Male           4.200246     3.769042  "
      ]
     },
     "execution_count": 21,
     "metadata": {},
     "output_type": "execute_result"
    }
   ],
   "source": [
    "(\n",
    "    df.groupby('gender', observed=False)\n",
    "    .agg(\n",
    "        {\n",
    "            \"customerid\":\"nunique\",\n",
    "            \"age\":\"mean\",\n",
    "            \"annual_income\":\"mean\",\n",
    "            \"spending_score\": \"mean\",\n",
    "            \"work_experience\": \"mean\",\n",
    "            \"family_size\": \"mean\"\n",
    "        }\n",
    "    ).rename(columns={\"customerid\":\"qtd_cliente\"})\n",
    ")"
   ]
  },
  {
   "cell_type": "markdown",
   "metadata": {},
   "source": [
    "Mulheres x Homens: <br>\n",
    "As mulheres são: mais novas, têm menos tempo de trabalho, menor renda anual e maior score de gasto. Porém, neste dataset, as diferenças são bem pequenas.\n",
    "        "
   ]
  },
  {
   "cell_type": "markdown",
   "metadata": {},
   "source": [
    "### 1.8 - Média das variáveis numéricas por profissão"
   ]
  },
  {
   "cell_type": "code",
   "execution_count": 33,
   "metadata": {},
   "outputs": [
    {
     "data": {
      "text/html": [
       "<div>\n",
       "<style scoped>\n",
       "    .dataframe tbody tr th:only-of-type {\n",
       "        vertical-align: middle;\n",
       "    }\n",
       "\n",
       "    .dataframe tbody tr th {\n",
       "        vertical-align: top;\n",
       "    }\n",
       "\n",
       "    .dataframe thead th {\n",
       "        text-align: right;\n",
       "    }\n",
       "</style>\n",
       "<table border=\"1\" class=\"dataframe\">\n",
       "  <thead>\n",
       "    <tr style=\"text-align: right;\">\n",
       "      <th></th>\n",
       "      <th>qtd_cliente</th>\n",
       "      <th>age</th>\n",
       "      <th>annual_income</th>\n",
       "      <th>spending_score</th>\n",
       "      <th>work_experience</th>\n",
       "      <th>family_size</th>\n",
       "    </tr>\n",
       "    <tr>\n",
       "      <th>profession</th>\n",
       "      <th></th>\n",
       "      <th></th>\n",
       "      <th></th>\n",
       "      <th></th>\n",
       "      <th></th>\n",
       "      <th></th>\n",
       "    </tr>\n",
       "  </thead>\n",
       "  <tbody>\n",
       "    <tr>\n",
       "      <th>Artist</th>\n",
       "      <td>612</td>\n",
       "      <td>49.004902</td>\n",
       "      <td>108776.580065</td>\n",
       "      <td>52.678105</td>\n",
       "      <td>4.215686</td>\n",
       "      <td>3.653595</td>\n",
       "    </tr>\n",
       "    <tr>\n",
       "      <th>Doctor</th>\n",
       "      <td>161</td>\n",
       "      <td>46.621118</td>\n",
       "      <td>111573.217391</td>\n",
       "      <td>51.900621</td>\n",
       "      <td>4.304348</td>\n",
       "      <td>3.670807</td>\n",
       "    </tr>\n",
       "    <tr>\n",
       "      <th>Engineer</th>\n",
       "      <td>179</td>\n",
       "      <td>55.094972</td>\n",
       "      <td>111161.240223</td>\n",
       "      <td>48.966480</td>\n",
       "      <td>3.955307</td>\n",
       "      <td>3.581006</td>\n",
       "    </tr>\n",
       "    <tr>\n",
       "      <th>Entertainment</th>\n",
       "      <td>234</td>\n",
       "      <td>51.162393</td>\n",
       "      <td>110650.333333</td>\n",
       "      <td>52.940171</td>\n",
       "      <td>3.500000</td>\n",
       "      <td>3.888889</td>\n",
       "    </tr>\n",
       "    <tr>\n",
       "      <th>Executive</th>\n",
       "      <td>153</td>\n",
       "      <td>46.601307</td>\n",
       "      <td>113770.130719</td>\n",
       "      <td>49.901961</td>\n",
       "      <td>4.248366</td>\n",
       "      <td>3.967320</td>\n",
       "    </tr>\n",
       "    <tr>\n",
       "      <th>Healthcare</th>\n",
       "      <td>339</td>\n",
       "      <td>47.843658</td>\n",
       "      <td>112574.041298</td>\n",
       "      <td>50.516224</td>\n",
       "      <td>4.002950</td>\n",
       "      <td>3.905605</td>\n",
       "    </tr>\n",
       "    <tr>\n",
       "      <th>Homemaker</th>\n",
       "      <td>60</td>\n",
       "      <td>45.366667</td>\n",
       "      <td>108758.616667</td>\n",
       "      <td>46.383333</td>\n",
       "      <td>6.133333</td>\n",
       "      <td>4.050000</td>\n",
       "    </tr>\n",
       "    <tr>\n",
       "      <th>Lawyer</th>\n",
       "      <td>142</td>\n",
       "      <td>47.753521</td>\n",
       "      <td>110995.838028</td>\n",
       "      <td>48.859155</td>\n",
       "      <td>3.528169</td>\n",
       "      <td>3.619718</td>\n",
       "    </tr>\n",
       "    <tr>\n",
       "      <th>Marketing</th>\n",
       "      <td>85</td>\n",
       "      <td>45.823529</td>\n",
       "      <td>107994.211765</td>\n",
       "      <td>48.717647</td>\n",
       "      <td>4.305882</td>\n",
       "      <td>3.729412</td>\n",
       "    </tr>\n",
       "  </tbody>\n",
       "</table>\n",
       "</div>"
      ],
      "text/plain": [
       "               qtd_cliente        age  annual_income  spending_score  \\\n",
       "profession                                                             \n",
       "Artist                 612  49.004902  108776.580065       52.678105   \n",
       "Doctor                 161  46.621118  111573.217391       51.900621   \n",
       "Engineer               179  55.094972  111161.240223       48.966480   \n",
       "Entertainment          234  51.162393  110650.333333       52.940171   \n",
       "Executive              153  46.601307  113770.130719       49.901961   \n",
       "Healthcare             339  47.843658  112574.041298       50.516224   \n",
       "Homemaker               60  45.366667  108758.616667       46.383333   \n",
       "Lawyer                 142  47.753521  110995.838028       48.859155   \n",
       "Marketing               85  45.823529  107994.211765       48.717647   \n",
       "\n",
       "               work_experience  family_size  \n",
       "profession                                   \n",
       "Artist                4.215686     3.653595  \n",
       "Doctor                4.304348     3.670807  \n",
       "Engineer              3.955307     3.581006  \n",
       "Entertainment         3.500000     3.888889  \n",
       "Executive             4.248366     3.967320  \n",
       "Healthcare            4.002950     3.905605  \n",
       "Homemaker             6.133333     4.050000  \n",
       "Lawyer                3.528169     3.619718  \n",
       "Marketing             4.305882     3.729412  "
      ]
     },
     "execution_count": 33,
     "metadata": {},
     "output_type": "execute_result"
    }
   ],
   "source": [
    "profession_groupped_df = (\n",
    "    df.groupby('profession', observed=False)\n",
    "    .agg(\n",
    "        {\n",
    "            \"customerid\":\"nunique\",   \n",
    "            \"age\":\"mean\",\n",
    "            \"annual_income\":\"mean\",\n",
    "            \"spending_score\": \"mean\",\n",
    "            \"work_experience\": \"mean\",\n",
    "            \"family_size\": \"mean\"\n",
    "        }\n",
    "    ).rename(columns={\"customerid\":\"qtd_cliente\"})\n",
    ")\n",
    "\n",
    "profession_groupped_df"
   ]
  },
  {
   "cell_type": "code",
   "execution_count": 32,
   "metadata": {},
   "outputs": [
    {
     "data": {
      "application/vnd.plotly.v1+json": {
       "config": {
        "plotlyServerURL": "https://plot.ly"
       },
       "data": [
        {
         "name": "qtd_cliente",
         "type": "bar",
         "x": [
          "Artist",
          "Doctor",
          "Engineer",
          "Entertainment",
          "Executive",
          "Healthcare",
          "Homemaker",
          "Lawyer",
          "Marketing"
         ],
         "xaxis": "x",
         "y": [
          612,
          161,
          179,
          234,
          153,
          339,
          60,
          142,
          85
         ],
         "yaxis": "y"
        },
        {
         "name": "age",
         "type": "bar",
         "x": [
          "Artist",
          "Doctor",
          "Engineer",
          "Entertainment",
          "Executive",
          "Healthcare",
          "Homemaker",
          "Lawyer",
          "Marketing"
         ],
         "xaxis": "x2",
         "y": [
          49.004901960784316,
          46.62111801242236,
          55.09497206703911,
          51.162393162393165,
          46.60130718954248,
          47.84365781710915,
          45.36666666666667,
          47.75352112676056,
          45.8235294117647
         ],
         "yaxis": "y2"
        },
        {
         "name": "annual_income",
         "type": "bar",
         "x": [
          "Artist",
          "Doctor",
          "Engineer",
          "Entertainment",
          "Executive",
          "Healthcare",
          "Homemaker",
          "Lawyer",
          "Marketing"
         ],
         "xaxis": "x3",
         "y": [
          108776.58006535948,
          111573.21739130435,
          111161.24022346368,
          110650.33333333333,
          113770.13071895424,
          112574.04129793511,
          108758.61666666667,
          110995.83802816902,
          107994.21176470588
         ],
         "yaxis": "y3"
        },
        {
         "name": "spending_score",
         "type": "bar",
         "x": [
          "Artist",
          "Doctor",
          "Engineer",
          "Entertainment",
          "Executive",
          "Healthcare",
          "Homemaker",
          "Lawyer",
          "Marketing"
         ],
         "xaxis": "x4",
         "y": [
          52.678104575163395,
          51.900621118012424,
          48.96648044692738,
          52.94017094017094,
          49.90196078431372,
          50.51622418879056,
          46.38333333333333,
          48.859154929577464,
          48.71764705882353
         ],
         "yaxis": "y4"
        },
        {
         "name": "work_experience",
         "type": "bar",
         "x": [
          "Artist",
          "Doctor",
          "Engineer",
          "Entertainment",
          "Executive",
          "Healthcare",
          "Homemaker",
          "Lawyer",
          "Marketing"
         ],
         "xaxis": "x5",
         "y": [
          4.215686274509804,
          4.304347826086956,
          3.9553072625698324,
          3.5,
          4.248366013071895,
          4.002949852507375,
          6.133333333333334,
          3.528169014084507,
          4.305882352941176
         ],
         "yaxis": "y5"
        },
        {
         "name": "family_size",
         "type": "bar",
         "x": [
          "Artist",
          "Doctor",
          "Engineer",
          "Entertainment",
          "Executive",
          "Healthcare",
          "Homemaker",
          "Lawyer",
          "Marketing"
         ],
         "xaxis": "x6",
         "y": [
          3.65359477124183,
          3.670807453416149,
          3.5810055865921786,
          3.888888888888889,
          3.9673202614379086,
          3.905604719764012,
          4.05,
          3.619718309859155,
          3.7294117647058824
         ],
         "yaxis": "y6"
        }
       ],
       "layout": {
        "annotations": [
         {
          "font": {
           "size": 16
          },
          "showarrow": false,
          "text": "qtd_cliente",
          "x": 0.14444444444444446,
          "xanchor": "center",
          "xref": "paper",
          "y": 1,
          "yanchor": "bottom",
          "yref": "paper"
         },
         {
          "font": {
           "size": 16
          },
          "showarrow": false,
          "text": "age",
          "x": 0.5,
          "xanchor": "center",
          "xref": "paper",
          "y": 1,
          "yanchor": "bottom",
          "yref": "paper"
         },
         {
          "font": {
           "size": 16
          },
          "showarrow": false,
          "text": "annual_income",
          "x": 0.8555555555555556,
          "xanchor": "center",
          "xref": "paper",
          "y": 1,
          "yanchor": "bottom",
          "yref": "paper"
         },
         {
          "font": {
           "size": 16
          },
          "showarrow": false,
          "text": "spending_score",
          "x": 0.14444444444444446,
          "xanchor": "center",
          "xref": "paper",
          "y": 0.375,
          "yanchor": "bottom",
          "yref": "paper"
         },
         {
          "font": {
           "size": 16
          },
          "showarrow": false,
          "text": "work_experience",
          "x": 0.5,
          "xanchor": "center",
          "xref": "paper",
          "y": 0.375,
          "yanchor": "bottom",
          "yref": "paper"
         },
         {
          "font": {
           "size": 16
          },
          "showarrow": false,
          "text": "family_size",
          "x": 0.8555555555555556,
          "xanchor": "center",
          "xref": "paper",
          "y": 0.375,
          "yanchor": "bottom",
          "yref": "paper"
         }
        ],
        "height": 600,
        "showlegend": false,
        "template": {
         "data": {
          "bar": [
           {
            "error_x": {
             "color": "#2a3f5f"
            },
            "error_y": {
             "color": "#2a3f5f"
            },
            "marker": {
             "line": {
              "color": "#E5ECF6",
              "width": 0.5
             },
             "pattern": {
              "fillmode": "overlay",
              "size": 10,
              "solidity": 0.2
             }
            },
            "type": "bar"
           }
          ],
          "barpolar": [
           {
            "marker": {
             "line": {
              "color": "#E5ECF6",
              "width": 0.5
             },
             "pattern": {
              "fillmode": "overlay",
              "size": 10,
              "solidity": 0.2
             }
            },
            "type": "barpolar"
           }
          ],
          "carpet": [
           {
            "aaxis": {
             "endlinecolor": "#2a3f5f",
             "gridcolor": "white",
             "linecolor": "white",
             "minorgridcolor": "white",
             "startlinecolor": "#2a3f5f"
            },
            "baxis": {
             "endlinecolor": "#2a3f5f",
             "gridcolor": "white",
             "linecolor": "white",
             "minorgridcolor": "white",
             "startlinecolor": "#2a3f5f"
            },
            "type": "carpet"
           }
          ],
          "choropleth": [
           {
            "colorbar": {
             "outlinewidth": 0,
             "ticks": ""
            },
            "type": "choropleth"
           }
          ],
          "contour": [
           {
            "colorbar": {
             "outlinewidth": 0,
             "ticks": ""
            },
            "colorscale": [
             [
              0,
              "#0d0887"
             ],
             [
              0.1111111111111111,
              "#46039f"
             ],
             [
              0.2222222222222222,
              "#7201a8"
             ],
             [
              0.3333333333333333,
              "#9c179e"
             ],
             [
              0.4444444444444444,
              "#bd3786"
             ],
             [
              0.5555555555555556,
              "#d8576b"
             ],
             [
              0.6666666666666666,
              "#ed7953"
             ],
             [
              0.7777777777777778,
              "#fb9f3a"
             ],
             [
              0.8888888888888888,
              "#fdca26"
             ],
             [
              1,
              "#f0f921"
             ]
            ],
            "type": "contour"
           }
          ],
          "contourcarpet": [
           {
            "colorbar": {
             "outlinewidth": 0,
             "ticks": ""
            },
            "type": "contourcarpet"
           }
          ],
          "heatmap": [
           {
            "colorbar": {
             "outlinewidth": 0,
             "ticks": ""
            },
            "colorscale": [
             [
              0,
              "#0d0887"
             ],
             [
              0.1111111111111111,
              "#46039f"
             ],
             [
              0.2222222222222222,
              "#7201a8"
             ],
             [
              0.3333333333333333,
              "#9c179e"
             ],
             [
              0.4444444444444444,
              "#bd3786"
             ],
             [
              0.5555555555555556,
              "#d8576b"
             ],
             [
              0.6666666666666666,
              "#ed7953"
             ],
             [
              0.7777777777777778,
              "#fb9f3a"
             ],
             [
              0.8888888888888888,
              "#fdca26"
             ],
             [
              1,
              "#f0f921"
             ]
            ],
            "type": "heatmap"
           }
          ],
          "heatmapgl": [
           {
            "colorbar": {
             "outlinewidth": 0,
             "ticks": ""
            },
            "colorscale": [
             [
              0,
              "#0d0887"
             ],
             [
              0.1111111111111111,
              "#46039f"
             ],
             [
              0.2222222222222222,
              "#7201a8"
             ],
             [
              0.3333333333333333,
              "#9c179e"
             ],
             [
              0.4444444444444444,
              "#bd3786"
             ],
             [
              0.5555555555555556,
              "#d8576b"
             ],
             [
              0.6666666666666666,
              "#ed7953"
             ],
             [
              0.7777777777777778,
              "#fb9f3a"
             ],
             [
              0.8888888888888888,
              "#fdca26"
             ],
             [
              1,
              "#f0f921"
             ]
            ],
            "type": "heatmapgl"
           }
          ],
          "histogram": [
           {
            "marker": {
             "pattern": {
              "fillmode": "overlay",
              "size": 10,
              "solidity": 0.2
             }
            },
            "type": "histogram"
           }
          ],
          "histogram2d": [
           {
            "colorbar": {
             "outlinewidth": 0,
             "ticks": ""
            },
            "colorscale": [
             [
              0,
              "#0d0887"
             ],
             [
              0.1111111111111111,
              "#46039f"
             ],
             [
              0.2222222222222222,
              "#7201a8"
             ],
             [
              0.3333333333333333,
              "#9c179e"
             ],
             [
              0.4444444444444444,
              "#bd3786"
             ],
             [
              0.5555555555555556,
              "#d8576b"
             ],
             [
              0.6666666666666666,
              "#ed7953"
             ],
             [
              0.7777777777777778,
              "#fb9f3a"
             ],
             [
              0.8888888888888888,
              "#fdca26"
             ],
             [
              1,
              "#f0f921"
             ]
            ],
            "type": "histogram2d"
           }
          ],
          "histogram2dcontour": [
           {
            "colorbar": {
             "outlinewidth": 0,
             "ticks": ""
            },
            "colorscale": [
             [
              0,
              "#0d0887"
             ],
             [
              0.1111111111111111,
              "#46039f"
             ],
             [
              0.2222222222222222,
              "#7201a8"
             ],
             [
              0.3333333333333333,
              "#9c179e"
             ],
             [
              0.4444444444444444,
              "#bd3786"
             ],
             [
              0.5555555555555556,
              "#d8576b"
             ],
             [
              0.6666666666666666,
              "#ed7953"
             ],
             [
              0.7777777777777778,
              "#fb9f3a"
             ],
             [
              0.8888888888888888,
              "#fdca26"
             ],
             [
              1,
              "#f0f921"
             ]
            ],
            "type": "histogram2dcontour"
           }
          ],
          "mesh3d": [
           {
            "colorbar": {
             "outlinewidth": 0,
             "ticks": ""
            },
            "type": "mesh3d"
           }
          ],
          "parcoords": [
           {
            "line": {
             "colorbar": {
              "outlinewidth": 0,
              "ticks": ""
             }
            },
            "type": "parcoords"
           }
          ],
          "pie": [
           {
            "automargin": true,
            "type": "pie"
           }
          ],
          "scatter": [
           {
            "fillpattern": {
             "fillmode": "overlay",
             "size": 10,
             "solidity": 0.2
            },
            "type": "scatter"
           }
          ],
          "scatter3d": [
           {
            "line": {
             "colorbar": {
              "outlinewidth": 0,
              "ticks": ""
             }
            },
            "marker": {
             "colorbar": {
              "outlinewidth": 0,
              "ticks": ""
             }
            },
            "type": "scatter3d"
           }
          ],
          "scattercarpet": [
           {
            "marker": {
             "colorbar": {
              "outlinewidth": 0,
              "ticks": ""
             }
            },
            "type": "scattercarpet"
           }
          ],
          "scattergeo": [
           {
            "marker": {
             "colorbar": {
              "outlinewidth": 0,
              "ticks": ""
             }
            },
            "type": "scattergeo"
           }
          ],
          "scattergl": [
           {
            "marker": {
             "colorbar": {
              "outlinewidth": 0,
              "ticks": ""
             }
            },
            "type": "scattergl"
           }
          ],
          "scattermapbox": [
           {
            "marker": {
             "colorbar": {
              "outlinewidth": 0,
              "ticks": ""
             }
            },
            "type": "scattermapbox"
           }
          ],
          "scatterpolar": [
           {
            "marker": {
             "colorbar": {
              "outlinewidth": 0,
              "ticks": ""
             }
            },
            "type": "scatterpolar"
           }
          ],
          "scatterpolargl": [
           {
            "marker": {
             "colorbar": {
              "outlinewidth": 0,
              "ticks": ""
             }
            },
            "type": "scatterpolargl"
           }
          ],
          "scatterternary": [
           {
            "marker": {
             "colorbar": {
              "outlinewidth": 0,
              "ticks": ""
             }
            },
            "type": "scatterternary"
           }
          ],
          "surface": [
           {
            "colorbar": {
             "outlinewidth": 0,
             "ticks": ""
            },
            "colorscale": [
             [
              0,
              "#0d0887"
             ],
             [
              0.1111111111111111,
              "#46039f"
             ],
             [
              0.2222222222222222,
              "#7201a8"
             ],
             [
              0.3333333333333333,
              "#9c179e"
             ],
             [
              0.4444444444444444,
              "#bd3786"
             ],
             [
              0.5555555555555556,
              "#d8576b"
             ],
             [
              0.6666666666666666,
              "#ed7953"
             ],
             [
              0.7777777777777778,
              "#fb9f3a"
             ],
             [
              0.8888888888888888,
              "#fdca26"
             ],
             [
              1,
              "#f0f921"
             ]
            ],
            "type": "surface"
           }
          ],
          "table": [
           {
            "cells": {
             "fill": {
              "color": "#EBF0F8"
             },
             "line": {
              "color": "white"
             }
            },
            "header": {
             "fill": {
              "color": "#C8D4E3"
             },
             "line": {
              "color": "white"
             }
            },
            "type": "table"
           }
          ]
         },
         "layout": {
          "annotationdefaults": {
           "arrowcolor": "#2a3f5f",
           "arrowhead": 0,
           "arrowwidth": 1
          },
          "autotypenumbers": "strict",
          "coloraxis": {
           "colorbar": {
            "outlinewidth": 0,
            "ticks": ""
           }
          },
          "colorscale": {
           "diverging": [
            [
             0,
             "#8e0152"
            ],
            [
             0.1,
             "#c51b7d"
            ],
            [
             0.2,
             "#de77ae"
            ],
            [
             0.3,
             "#f1b6da"
            ],
            [
             0.4,
             "#fde0ef"
            ],
            [
             0.5,
             "#f7f7f7"
            ],
            [
             0.6,
             "#e6f5d0"
            ],
            [
             0.7,
             "#b8e186"
            ],
            [
             0.8,
             "#7fbc41"
            ],
            [
             0.9,
             "#4d9221"
            ],
            [
             1,
             "#276419"
            ]
           ],
           "sequential": [
            [
             0,
             "#0d0887"
            ],
            [
             0.1111111111111111,
             "#46039f"
            ],
            [
             0.2222222222222222,
             "#7201a8"
            ],
            [
             0.3333333333333333,
             "#9c179e"
            ],
            [
             0.4444444444444444,
             "#bd3786"
            ],
            [
             0.5555555555555556,
             "#d8576b"
            ],
            [
             0.6666666666666666,
             "#ed7953"
            ],
            [
             0.7777777777777778,
             "#fb9f3a"
            ],
            [
             0.8888888888888888,
             "#fdca26"
            ],
            [
             1,
             "#f0f921"
            ]
           ],
           "sequentialminus": [
            [
             0,
             "#0d0887"
            ],
            [
             0.1111111111111111,
             "#46039f"
            ],
            [
             0.2222222222222222,
             "#7201a8"
            ],
            [
             0.3333333333333333,
             "#9c179e"
            ],
            [
             0.4444444444444444,
             "#bd3786"
            ],
            [
             0.5555555555555556,
             "#d8576b"
            ],
            [
             0.6666666666666666,
             "#ed7953"
            ],
            [
             0.7777777777777778,
             "#fb9f3a"
            ],
            [
             0.8888888888888888,
             "#fdca26"
            ],
            [
             1,
             "#f0f921"
            ]
           ]
          },
          "colorway": [
           "#636efa",
           "#EF553B",
           "#00cc96",
           "#ab63fa",
           "#FFA15A",
           "#19d3f3",
           "#FF6692",
           "#B6E880",
           "#FF97FF",
           "#FECB52"
          ],
          "font": {
           "color": "#2a3f5f"
          },
          "geo": {
           "bgcolor": "white",
           "lakecolor": "white",
           "landcolor": "#E5ECF6",
           "showlakes": true,
           "showland": true,
           "subunitcolor": "white"
          },
          "hoverlabel": {
           "align": "left"
          },
          "hovermode": "closest",
          "mapbox": {
           "style": "light"
          },
          "paper_bgcolor": "white",
          "plot_bgcolor": "#E5ECF6",
          "polar": {
           "angularaxis": {
            "gridcolor": "white",
            "linecolor": "white",
            "ticks": ""
           },
           "bgcolor": "#E5ECF6",
           "radialaxis": {
            "gridcolor": "white",
            "linecolor": "white",
            "ticks": ""
           }
          },
          "scene": {
           "xaxis": {
            "backgroundcolor": "#E5ECF6",
            "gridcolor": "white",
            "gridwidth": 2,
            "linecolor": "white",
            "showbackground": true,
            "ticks": "",
            "zerolinecolor": "white"
           },
           "yaxis": {
            "backgroundcolor": "#E5ECF6",
            "gridcolor": "white",
            "gridwidth": 2,
            "linecolor": "white",
            "showbackground": true,
            "ticks": "",
            "zerolinecolor": "white"
           },
           "zaxis": {
            "backgroundcolor": "#E5ECF6",
            "gridcolor": "white",
            "gridwidth": 2,
            "linecolor": "white",
            "showbackground": true,
            "ticks": "",
            "zerolinecolor": "white"
           }
          },
          "shapedefaults": {
           "line": {
            "color": "#2a3f5f"
           }
          },
          "ternary": {
           "aaxis": {
            "gridcolor": "white",
            "linecolor": "white",
            "ticks": ""
           },
           "baxis": {
            "gridcolor": "white",
            "linecolor": "white",
            "ticks": ""
           },
           "bgcolor": "#E5ECF6",
           "caxis": {
            "gridcolor": "white",
            "linecolor": "white",
            "ticks": ""
           }
          },
          "title": {
           "x": 0.05
          },
          "xaxis": {
           "automargin": true,
           "gridcolor": "white",
           "linecolor": "white",
           "ticks": "",
           "title": {
            "standoff": 15
           },
           "zerolinecolor": "white",
           "zerolinewidth": 2
          },
          "yaxis": {
           "automargin": true,
           "gridcolor": "white",
           "linecolor": "white",
           "ticks": "",
           "title": {
            "standoff": 15
           },
           "zerolinecolor": "white",
           "zerolinewidth": 2
          }
         }
        },
        "title": {
         "text": "Métricas por Profissão"
        },
        "width": 1200,
        "xaxis": {
         "anchor": "y",
         "domain": [
          0,
          0.2888888888888889
         ]
        },
        "xaxis2": {
         "anchor": "y2",
         "domain": [
          0.35555555555555557,
          0.6444444444444445
         ]
        },
        "xaxis3": {
         "anchor": "y3",
         "domain": [
          0.7111111111111111,
          1
         ]
        },
        "xaxis4": {
         "anchor": "y4",
         "domain": [
          0,
          0.2888888888888889
         ]
        },
        "xaxis5": {
         "anchor": "y5",
         "domain": [
          0.35555555555555557,
          0.6444444444444445
         ]
        },
        "xaxis6": {
         "anchor": "y6",
         "domain": [
          0.7111111111111111,
          1
         ]
        },
        "yaxis": {
         "anchor": "x",
         "domain": [
          0.625,
          1
         ]
        },
        "yaxis2": {
         "anchor": "x2",
         "domain": [
          0.625,
          1
         ]
        },
        "yaxis3": {
         "anchor": "x3",
         "domain": [
          0.625,
          1
         ]
        },
        "yaxis4": {
         "anchor": "x4",
         "domain": [
          0,
          0.375
         ]
        },
        "yaxis5": {
         "anchor": "x5",
         "domain": [
          0,
          0.375
         ]
        },
        "yaxis6": {
         "anchor": "x6",
         "domain": [
          0,
          0.375
         ]
        }
       }
      }
     },
     "metadata": {},
     "output_type": "display_data"
    }
   ],
   "source": [
    "import plotly.graph_objects as go\n",
    "from plotly.subplots import make_subplots\n",
    "\n",
    "# Número de linhas e colunas para os subplots\n",
    "num_rows = 2\n",
    "num_cols = 3\n",
    "\n",
    "# Criar figura com um subplot para cada coluna\n",
    "fig = make_subplots(rows=num_rows, cols=num_cols, subplot_titles=profession_groupped_df.columns)\n",
    "\n",
    "# Adicionar um barplot para cada coluna do DataFrame\n",
    "for i, column in enumerate(profession_groupped_df.columns, start=1):\n",
    "    fig.add_trace(\n",
    "        go.Bar(x=profession_groupped_df.index, y=profession_groupped_df[column], name=column),\n",
    "        row=(i-1)//num_cols + 1,  # Calculando a linha correta\n",
    "        col=(i-1)%num_cols + 1    # Calculando a coluna correta\n",
    "    )\n",
    "\n",
    "# Atualizar layout\n",
    "fig.update_layout(height=600, width=1200, title_text=\"Métricas por Profissão\", showlegend=False)\n",
    "fig.show()\n"
   ]
  },
  {
   "cell_type": "markdown",
   "metadata": {},
   "source": [
    "O plotly não renderiza no github, caso tenha interesse em ver o gráfico, procure o meu repositório em https://nbviewer.org/ <br>\n",
    "<p>\n",
    "A maior parte dos clientes são artistas <br>\n",
    "Os engenheiros são os mais velhos <br>\n",
    "As donas de casa são as que têm mais tempo de trabalho\n",
    "</p>"
   ]
  },
  {
   "cell_type": "markdown",
   "metadata": {},
   "source": [
    "### 1.9 COMPARANDO GÊNERO E PROFISSÃO"
   ]
  },
  {
   "cell_type": "code",
   "execution_count": 49,
   "metadata": {},
   "outputs": [
    {
     "data": {
      "image/png": "[encoded data removed]",
      "text/plain": [
       "<Figure size 640x480 with 1 Axes>"
      ]
     },
     "metadata": {},
     "output_type": "display_data"
    }
   ],
   "source": [
    "cross_tab = pd.crosstab(df['gender'], df['profession'])\n",
    "\n",
    "import seaborn as sns\n",
    "\n",
    "# Escolhendo uma paleta de cores do Seaborn\n",
    "palette = sns.color_palette(\"rocket_r\", len(cross_tab.columns))\n",
    "\n",
    "# Gráfico de barras com a paleta do Seaborn\n",
    "cross_tab.plot(kind='bar', stacked=False, color=palette)\n",
    "plt.title(\"Contagem de clientes por Gênero e Profissão\")\n",
    "plt.ylabel(\"Contagem\")\n",
    "plt.show()\n"
   ]
  }
 ],
 "metadata": {
  "kernelspec": {
   "display_name": ".venv",
   "language": "python",
   "name": "python3"
  },
  "language_info": {
   "codemirror_mode": {
    "name": "ipython",
    "version": 3
   },
   "file_extension": ".py",
   "mimetype": "text/x-python",
   "name": "python",
   "nbconvert_exporter": "python",
   "pygments_lexer": "ipython3",
   "version": "3.11.4"
  }
 },
 "nbformat": 4,
 "nbformat_minor": 2
}
